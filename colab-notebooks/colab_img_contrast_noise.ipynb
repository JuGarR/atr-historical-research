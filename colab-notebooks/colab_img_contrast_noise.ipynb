{
  "cells": [
    {
      "cell_type": "markdown",
      "metadata": {
        "id": "view-in-github",
        "colab_type": "text"
      },
      "source": [
        "<a href=\"https://colab.research.google.com/github/JuGarR/atr-historical-research/blob/main/colab-notebooks/colab_img_contrast_noise.ipynb\" target=\"_parent\"><img src=\"https://colab.research.google.com/assets/colab-badge.svg\" alt=\"Open In Colab\"/></a>"
      ]
    },
    {
      "cell_type": "markdown",
      "metadata": {
        "id": "hO6EHigXVUyf"
      },
      "source": [
        "**Python script to increase image contrast and reduce noise**\n",
        "\n",
        "This simple code is intended as pre-processing for text scans to be read with OCR software.\n"
      ]
    },
    {
      "cell_type": "code",
      "execution_count": 43,
      "metadata": {
        "colab": {
          "base_uri": "https://localhost:8080/"
        },
        "id": "16085877",
        "outputId": "fb5537b5-878b-4b8c-f58c-3053b4894cf7"
      },
      "outputs": [
        {
          "output_type": "stream",
          "name": "stdout",
          "text": [
            "Drive already mounted at /content/drive; to attempt to forcibly remount, call drive.mount(\"/content/drive\", force_remount=True).\n"
          ]
        }
      ],
      "source": [
        "# Mount Google Drive\n",
        "from google.colab import drive\n",
        "drive.mount('/content/drive')\n",
        "\n",
        "# Set output directory\n",
        "output_dir = \"/content/drive/My Drive/Colab Notebooks/OCR_outputs_privproject\"\n",
        "import os\n",
        "os.makedirs(output_dir, exist_ok=True)"
      ]
    },
    {
      "cell_type": "code",
      "execution_count": 51,
      "metadata": {
        "execution": {
          "iopub.execute_input": "2025-01-19T21:45:56.253192Z",
          "iopub.status.busy": "2025-01-19T21:45:56.252846Z",
          "iopub.status.idle": "2025-01-19T21:45:56.258209Z",
          "shell.execute_reply": "2025-01-19T21:45:56.256755Z",
          "shell.execute_reply.started": "2025-01-19T21:45:56.253168Z"
        },
        "id": "vs6O8r6MVUyg"
      },
      "outputs": [],
      "source": [
        "# import your packages\n",
        "\n",
        "from PIL import Image, ImageEnhance\n",
        "import os\n",
        "import cv2\n",
        "import numpy"
      ]
    },
    {
      "cell_type": "code",
      "execution_count": 52,
      "metadata": {
        "execution": {
          "iopub.execute_input": "2025-01-19T21:48:17.805141Z",
          "iopub.status.busy": "2025-01-19T21:48:17.804697Z",
          "iopub.status.idle": "2025-01-19T21:48:17.809723Z",
          "shell.execute_reply": "2025-01-19T21:48:17.808471Z",
          "shell.execute_reply.started": "2025-01-19T21:48:17.805111Z"
        },
        "colab": {
          "base_uri": "https://localhost:8080/"
        },
        "id": "3dYM4_IGVUyh",
        "outputId": "5eb42c9b-396b-4466-cab5-7cde4533c235"
      },
      "outputs": [
        {
          "output_type": "stream",
          "name": "stdout",
          "text": [
            "Directory '/content/atr-historical-research/sample_judit_jpg' does not exist. Check the repo structure.\n"
          ]
        }
      ],
      "source": [
        "# Define GitHub repository and local path\n",
        "git_repo_url = \"https://github.com/JuGarR/atr-historical-research\"\n",
        "local_repo_path = \"/content/atr-historical-research\"\n",
        "\n",
        "# Clone the repository (if not already cloned)\n",
        "if not os.path.exists(local_repo_path):\n",
        "    !git clone {git_repo_url} {local_repo_path}\n",
        "\n",
        "# Define the local path to the sample_data_JPG folder\n",
        "# use path to your own jpg images if you want\n",
        "gitpath = os.path.join(local_repo_path, \"sample_judit_jpg\")\n",
        "\n",
        "# Check if the directory exists\n",
        "if os.path.exists(gitpath):\n",
        "    # List all files recursively in the folder\n",
        "    filenames = []\n",
        "    for root, dirs, files in os.walk(gitpath):\n",
        "        for file in files:\n",
        "            filenames.append(os.path.join(root, file))\n",
        "\n",
        "    # Print the collected filenames\n",
        "    for filename in filenames:\n",
        "        print(filename)\n",
        "else:\n",
        "    print(f\"Directory '{gitpath}' does not exist. Check the repo structure.\")"
      ]
    },
    {
      "cell_type": "code",
      "execution_count": 46,
      "metadata": {
        "execution": {
          "iopub.execute_input": "2025-01-19T21:48:23.171911Z",
          "iopub.status.busy": "2025-01-19T21:48:23.171590Z",
          "iopub.status.idle": "2025-01-19T21:48:23.492512Z",
          "shell.execute_reply": "2025-01-19T21:48:23.491414Z",
          "shell.execute_reply.started": "2025-01-19T21:48:23.171887Z"
        },
        "colab": {
          "base_uri": "https://localhost:8080/"
        },
        "id": "dv80GviOVUyh",
        "outputId": "99d8fa3d-72e7-445e-dc4f-3fa1a48a28f5"
      },
      "outputs": [
        {
          "output_type": "stream",
          "name": "stdout",
          "text": [
            "<class 'PIL.Image.Image'>\n",
            "<class 'PIL.Image.Image'>\n",
            "<class 'PIL.Image.Image'>\n",
            "<class 'PIL.Image.Image'>\n",
            "<class 'PIL.Image.Image'>\n",
            "<class 'PIL.Image.Image'>\n",
            "Images have been processed! Please check the results in your ouput directory on Google Drive!\n"
          ]
        }
      ],
      "source": [
        "# Loop through image files\n",
        "\n",
        "count=0\n",
        "for f in filenames:\n",
        "    count+=1\n",
        "    im=Image.open(f)\n",
        "\n",
        "# Enhance contrast with PIL\n",
        "\n",
        "    enhancer=ImageEnhance.Contrast(im)\n",
        "    enhanced_im=enhancer.enhance(2.0)\n",
        "    print(type(enhanced_im))\n",
        "\n",
        "# Image class needs to be change from PIL image object to Open CV image object\n",
        "\n",
        "    opencv_im=cv2.cvtColor(numpy.array(enhanced_im), cv2.COLOR_RGB2BGR) # transform colour encoding\n",
        "\n",
        "# Use median blur function from Open CV library suitable for colour images\n",
        "# cf. test with different noise filters on https://towardsdatascience.com/image-filters-in-python-26ee938e57d2\n",
        "\n",
        "    new_image=cv2.medianBlur(opencv_im, 5) # 2nd position = kernel size\n",
        "    cv2.imwrite(os.path.join(output_dir, \"%s.png\" % count), new_image)\n",
        "\n",
        "print(\"Images have been processed! Please check the results in your ouput directory on Google Drive!\")"
      ]
    },
    {
      "cell_type": "code",
      "execution_count": null,
      "metadata": {
        "id": "8fTpedReVUyi"
      },
      "outputs": [],
      "source": []
    }
  ],
  "metadata": {
    "kaggle": {
      "accelerator": "none",
      "dataSources": [
        {
          "datasetId": 6511031,
          "sourceId": 10519234,
          "sourceType": "datasetVersion"
        }
      ],
      "dockerImageVersionId": 30839,
      "isGpuEnabled": false,
      "isInternetEnabled": false,
      "language": "python",
      "sourceType": "notebook"
    },
    "kernelspec": {
      "display_name": "Python 3",
      "language": "python",
      "name": "python3"
    },
    "language_info": {
      "codemirror_mode": {
        "name": "ipython",
        "version": 3
      },
      "file_extension": ".py",
      "mimetype": "text/x-python",
      "name": "python",
      "nbconvert_exporter": "python",
      "pygments_lexer": "ipython3",
      "version": "3.10.12"
    },
    "colab": {
      "provenance": [],
      "include_colab_link": true
    }
  },
  "nbformat": 4,
  "nbformat_minor": 0
}